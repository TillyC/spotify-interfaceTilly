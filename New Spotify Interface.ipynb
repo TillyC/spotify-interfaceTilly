{
 "cells": [
  {
   "cell_type": "code",
   "execution_count": 1,
   "id": "e92f47a6",
   "metadata": {},
   "outputs": [],
   "source": [
    "import spotipy\n",
    "import json\n",
    "import webbrowser\n",
    "import urllib.request\n",
    "import spotipy.util as util"
   ]
  },
  {
   "cell_type": "code",
   "execution_count": 2,
   "id": "ca9ecd0d",
   "metadata": {},
   "outputs": [],
   "source": [
    "# copy and paste the url into your browser to see what data you are getting back\n",
    "request = urllib.request.Request(\"https://weatherdbi.herokuapp.com/data/weather/toyoko\")\n",
    "response = urllib.request.urlopen(request)"
   ]
  },
  {
   "cell_type": "code",
   "execution_count": 3,
   "id": "ec47d5f6",
   "metadata": {},
   "outputs": [],
   "source": [
    "weather = json.loads(response.read())"
   ]
  },
  {
   "cell_type": "code",
   "execution_count": 4,
   "id": "c5a625c7",
   "metadata": {},
   "outputs": [
    {
     "name": "stdout",
     "output_type": "stream",
     "text": [
      "{'region': 'Tokyo, Japan', 'currentConditions': {'dayhour': 'Thursday 1:00 AM', 'temp': {'c': 12, 'f': 54}, 'precip': '90%', 'humidity': '91%', 'wind': {'km': 6, 'mile': 4}, 'iconURL': 'https://ssl.gstatic.com/onebox/weather/64/rain.png', 'comment': 'Rain'}, 'next_days': [{'day': 'Thursday', 'comment': 'Clear with periodic clouds', 'max_temp': {'c': 21, 'f': 70}, 'min_temp': {'c': 11, 'f': 52}, 'iconURL': 'https://ssl.gstatic.com/onebox/weather/48/sunny_s_cloudy.png'}, {'day': 'Friday', 'comment': 'Clear with periodic clouds', 'max_temp': {'c': 18, 'f': 64}, 'min_temp': {'c': 11, 'f': 52}, 'iconURL': 'https://ssl.gstatic.com/onebox/weather/48/sunny_s_cloudy.png'}, {'day': 'Saturday', 'comment': 'Cloudy with periodic rain', 'max_temp': {'c': 17, 'f': 63}, 'min_temp': {'c': 10, 'f': 50}, 'iconURL': 'https://ssl.gstatic.com/onebox/weather/48/cloudy_s_rain.png'}, {'day': 'Sunday', 'comment': 'Clear with periodic clouds', 'max_temp': {'c': 16, 'f': 61}, 'min_temp': {'c': 9, 'f': 48}, 'iconURL': 'https://ssl.gstatic.com/onebox/weather/48/sunny_s_cloudy.png'}, {'day': 'Monday', 'comment': 'Cloudy', 'max_temp': {'c': 14, 'f': 57}, 'min_temp': {'c': 8, 'f': 46}, 'iconURL': 'https://ssl.gstatic.com/onebox/weather/48/cloudy.png'}, {'day': 'Tuesday', 'comment': 'Cloudy', 'max_temp': {'c': 19, 'f': 66}, 'min_temp': {'c': 9, 'f': 48}, 'iconURL': 'https://ssl.gstatic.com/onebox/weather/48/cloudy.png'}, {'day': 'Wednesday', 'comment': 'Cloudy with brief rain', 'max_temp': {'c': 22, 'f': 72}, 'min_temp': {'c': 13, 'f': 55}, 'iconURL': 'https://ssl.gstatic.com/onebox/weather/48/cloudy_s_rain.png'}, {'day': 'Thursday', 'comment': 'Cloudy periodically clear', 'max_temp': {'c': 14, 'f': 57}, 'min_temp': {'c': 7, 'f': 45}, 'iconURL': 'https://ssl.gstatic.com/onebox/weather/48/cloudy_s_sunny.png'}], 'contact_author': {'email': 'communication.with.users@gmail.com', 'auth_note': 'Mail me for feature requests, improvement, bug, help, ect... Please tell me if you want me to provide any other free easy-to-use API services'}, 'data_source': 'https://www.google.com/search?lr=lang_en&q=weather+in+toyoko'}\n"
     ]
    }
   ],
   "source": [
    "print(weather)"
   ]
  },
  {
   "cell_type": "code",
   "execution_count": 5,
   "id": "907b7524",
   "metadata": {},
   "outputs": [],
   "source": [
    "forecast = weather[\"currentConditions\"][\"comment\"]"
   ]
  },
  {
   "cell_type": "code",
   "execution_count": 6,
   "id": "5dd7b778",
   "metadata": {},
   "outputs": [
    {
     "data": {
      "text/plain": [
       "'Rain'"
      ]
     },
     "execution_count": 6,
     "metadata": {},
     "output_type": "execute_result"
    }
   ],
   "source": [
    "forecast"
   ]
  },
  {
   "cell_type": "code",
   "execution_count": 7,
   "id": "98bef9f7",
   "metadata": {},
   "outputs": [],
   "source": [
    "# open file with keys and set the path to your credentials JSON file\n",
    "credentials = \"spotifyKeys.json\"\n",
    "with open(credentials, \"r\") as keys:\n",
    "    api_tokens = json.load(keys)"
   ]
  },
  {
   "cell_type": "code",
   "execution_count": 8,
   "id": "f0e21c98",
   "metadata": {},
   "outputs": [],
   "source": [
    "# read the keys and assign each to a variable\n",
    "# A redirect URI, or reply URL, is the location where the authorization server sends the user once the app has been \n",
    "# successfully authorized and granted an authorization code or access token.\n",
    "client_id = api_tokens[\"client_id\"]\n",
    "client_secret = api_tokens[\"client_secret\"]\n",
    "redirectURI = api_tokens[\"redirect\"]\n",
    "username = api_tokens[\"username\"]"
   ]
  },
  {
   "cell_type": "code",
   "execution_count": 11,
   "id": "ed78eb9f",
   "metadata": {},
   "outputs": [],
   "source": [
    "scope = 'user-read-private user-read-playback-state user-modify-playback-state playlist-modify-public'\n",
    "token = util.prompt_for_user_token(username, scope, client_id=client_id,\n",
    "                           client_secret=client_secret,\n",
    "                           redirect_uri=redirectURI)"
   ]
  },
  {
   "cell_type": "code",
   "execution_count": 10,
   "id": "cf20c97a",
   "metadata": {},
   "outputs": [],
   "source": [
    "# Create OAuth Object\n",
    "# oauth_object = spotipy.SpotifyOAuth(client_id, client_secret, redirectURI)\n",
    "# Create token\n",
    "# token_dict = oauth_object.get_cached_token()\n",
    "# token = token_dict['access_token']\n",
    "# print(token_dict)\n",
    "# Create Spotify Object\n",
    "sp = spotipy.Spotify(auth=token)"
   ]
  },
  {
   "cell_type": "code",
   "execution_count": 13,
   "id": "c08024fc",
   "metadata": {},
   "outputs": [],
   "source": [
    "# learn about more query strings for spotify here: https://developer.spotify.com/documentation/web-api/reference/#/operations/search\n",
    "track_results = sp.search(q=forecast, type='track', limit=50)"
   ]
  },
  {
   "cell_type": "code",
   "execution_count": 14,
   "id": "294dfa69",
   "metadata": {},
   "outputs": [
    {
     "data": {
      "text/plain": [
       "{'album': {'album_type': 'single',\n",
       "  'artists': [{'external_urls': {'spotify': 'https://open.spotify.com/artist/2PJEagPIxaBugeMjIyKVXF'},\n",
       "    'href': 'https://api.spotify.com/v1/artists/2PJEagPIxaBugeMjIyKVXF',\n",
       "    'id': '2PJEagPIxaBugeMjIyKVXF',\n",
       "    'name': 'Aitch',\n",
       "    'type': 'artist',\n",
       "    'uri': 'spotify:artist:2PJEagPIxaBugeMjIyKVXF'},\n",
       "   {'external_urls': {'spotify': 'https://open.spotify.com/artist/4Xi6LSfFqv26XgP9NKN26U'},\n",
       "    'href': 'https://api.spotify.com/v1/artists/4Xi6LSfFqv26XgP9NKN26U',\n",
       "    'id': '4Xi6LSfFqv26XgP9NKN26U',\n",
       "    'name': 'AJ Tracey',\n",
       "    'type': 'artist',\n",
       "    'uri': 'spotify:artist:4Xi6LSfFqv26XgP9NKN26U'}],\n",
       "  'available_markets': ['AD',\n",
       "   'AE',\n",
       "   'AG',\n",
       "   'AL',\n",
       "   'AM',\n",
       "   'AO',\n",
       "   'AR',\n",
       "   'AT',\n",
       "   'AU',\n",
       "   'AZ',\n",
       "   'BA',\n",
       "   'BB',\n",
       "   'BD',\n",
       "   'BE',\n",
       "   'BF',\n",
       "   'BG',\n",
       "   'BH',\n",
       "   'BI',\n",
       "   'BJ',\n",
       "   'BN',\n",
       "   'BO',\n",
       "   'BR',\n",
       "   'BS',\n",
       "   'BT',\n",
       "   'BW',\n",
       "   'BY',\n",
       "   'BZ',\n",
       "   'CD',\n",
       "   'CG',\n",
       "   'CH',\n",
       "   'CI',\n",
       "   'CL',\n",
       "   'CM',\n",
       "   'CO',\n",
       "   'CR',\n",
       "   'CV',\n",
       "   'CW',\n",
       "   'CY',\n",
       "   'CZ',\n",
       "   'DE',\n",
       "   'DJ',\n",
       "   'DK',\n",
       "   'DM',\n",
       "   'DO',\n",
       "   'DZ',\n",
       "   'EC',\n",
       "   'EE',\n",
       "   'EG',\n",
       "   'ES',\n",
       "   'FI',\n",
       "   'FJ',\n",
       "   'FM',\n",
       "   'FR',\n",
       "   'GA',\n",
       "   'GB',\n",
       "   'GD',\n",
       "   'GE',\n",
       "   'GH',\n",
       "   'GM',\n",
       "   'GN',\n",
       "   'GQ',\n",
       "   'GR',\n",
       "   'GT',\n",
       "   'GW',\n",
       "   'GY',\n",
       "   'HK',\n",
       "   'HN',\n",
       "   'HR',\n",
       "   'HT',\n",
       "   'HU',\n",
       "   'ID',\n",
       "   'IE',\n",
       "   'IL',\n",
       "   'IN',\n",
       "   'IQ',\n",
       "   'IS',\n",
       "   'IT',\n",
       "   'JM',\n",
       "   'JO',\n",
       "   'JP',\n",
       "   'KE',\n",
       "   'KG',\n",
       "   'KH',\n",
       "   'KI',\n",
       "   'KM',\n",
       "   'KN',\n",
       "   'KR',\n",
       "   'KW',\n",
       "   'KZ',\n",
       "   'LA',\n",
       "   'LB',\n",
       "   'LC',\n",
       "   'LI',\n",
       "   'LK',\n",
       "   'LR',\n",
       "   'LS',\n",
       "   'LT',\n",
       "   'LU',\n",
       "   'LV',\n",
       "   'LY',\n",
       "   'MA',\n",
       "   'MC',\n",
       "   'MD',\n",
       "   'ME',\n",
       "   'MG',\n",
       "   'MH',\n",
       "   'MK',\n",
       "   'ML',\n",
       "   'MN',\n",
       "   'MO',\n",
       "   'MR',\n",
       "   'MT',\n",
       "   'MU',\n",
       "   'MV',\n",
       "   'MW',\n",
       "   'MX',\n",
       "   'MY',\n",
       "   'MZ',\n",
       "   'NA',\n",
       "   'NE',\n",
       "   'NG',\n",
       "   'NI',\n",
       "   'NL',\n",
       "   'NO',\n",
       "   'NP',\n",
       "   'NR',\n",
       "   'NZ',\n",
       "   'OM',\n",
       "   'PA',\n",
       "   'PE',\n",
       "   'PG',\n",
       "   'PH',\n",
       "   'PK',\n",
       "   'PL',\n",
       "   'PS',\n",
       "   'PT',\n",
       "   'PW',\n",
       "   'PY',\n",
       "   'QA',\n",
       "   'RO',\n",
       "   'RS',\n",
       "   'RW',\n",
       "   'SA',\n",
       "   'SB',\n",
       "   'SC',\n",
       "   'SE',\n",
       "   'SG',\n",
       "   'SI',\n",
       "   'SK',\n",
       "   'SL',\n",
       "   'SM',\n",
       "   'SN',\n",
       "   'SR',\n",
       "   'ST',\n",
       "   'SV',\n",
       "   'SZ',\n",
       "   'TD',\n",
       "   'TG',\n",
       "   'TH',\n",
       "   'TJ',\n",
       "   'TL',\n",
       "   'TN',\n",
       "   'TO',\n",
       "   'TR',\n",
       "   'TT',\n",
       "   'TV',\n",
       "   'TW',\n",
       "   'TZ',\n",
       "   'UA',\n",
       "   'UG',\n",
       "   'UY',\n",
       "   'UZ',\n",
       "   'VC',\n",
       "   'VE',\n",
       "   'VN',\n",
       "   'VU',\n",
       "   'WS',\n",
       "   'XK',\n",
       "   'ZA',\n",
       "   'ZM',\n",
       "   'ZW'],\n",
       "  'external_urls': {'spotify': 'https://open.spotify.com/album/0QPLgUQ70nkJTsgCWAfDVO'},\n",
       "  'href': 'https://api.spotify.com/v1/albums/0QPLgUQ70nkJTsgCWAfDVO',\n",
       "  'id': '0QPLgUQ70nkJTsgCWAfDVO',\n",
       "  'images': [{'height': 640,\n",
       "    'url': 'https://i.scdn.co/image/ab67616d0000b2736889b9cce35ba7035d236010',\n",
       "    'width': 640},\n",
       "   {'height': 300,\n",
       "    'url': 'https://i.scdn.co/image/ab67616d00001e026889b9cce35ba7035d236010',\n",
       "    'width': 300},\n",
       "   {'height': 64,\n",
       "    'url': 'https://i.scdn.co/image/ab67616d000048516889b9cce35ba7035d236010',\n",
       "    'width': 64}],\n",
       "  'name': 'Rain',\n",
       "  'release_date': '2020-03-05',\n",
       "  'release_date_precision': 'day',\n",
       "  'total_tracks': 1,\n",
       "  'type': 'album',\n",
       "  'uri': 'spotify:album:0QPLgUQ70nkJTsgCWAfDVO'},\n",
       " 'artists': [{'external_urls': {'spotify': 'https://open.spotify.com/artist/2PJEagPIxaBugeMjIyKVXF'},\n",
       "   'href': 'https://api.spotify.com/v1/artists/2PJEagPIxaBugeMjIyKVXF',\n",
       "   'id': '2PJEagPIxaBugeMjIyKVXF',\n",
       "   'name': 'Aitch',\n",
       "   'type': 'artist',\n",
       "   'uri': 'spotify:artist:2PJEagPIxaBugeMjIyKVXF'},\n",
       "  {'external_urls': {'spotify': 'https://open.spotify.com/artist/4Xi6LSfFqv26XgP9NKN26U'},\n",
       "   'href': 'https://api.spotify.com/v1/artists/4Xi6LSfFqv26XgP9NKN26U',\n",
       "   'id': '4Xi6LSfFqv26XgP9NKN26U',\n",
       "   'name': 'AJ Tracey',\n",
       "   'type': 'artist',\n",
       "   'uri': 'spotify:artist:4Xi6LSfFqv26XgP9NKN26U'},\n",
       "  {'external_urls': {'spotify': 'https://open.spotify.com/artist/5xkFVS6IwwgHEAaRzXc9U3'},\n",
       "   'href': 'https://api.spotify.com/v1/artists/5xkFVS6IwwgHEAaRzXc9U3',\n",
       "   'id': '5xkFVS6IwwgHEAaRzXc9U3',\n",
       "   'name': 'Tay Keith',\n",
       "   'type': 'artist',\n",
       "   'uri': 'spotify:artist:5xkFVS6IwwgHEAaRzXc9U3'}],\n",
       " 'available_markets': ['AD',\n",
       "  'AE',\n",
       "  'AG',\n",
       "  'AL',\n",
       "  'AM',\n",
       "  'AO',\n",
       "  'AR',\n",
       "  'AT',\n",
       "  'AU',\n",
       "  'AZ',\n",
       "  'BA',\n",
       "  'BB',\n",
       "  'BD',\n",
       "  'BE',\n",
       "  'BF',\n",
       "  'BG',\n",
       "  'BH',\n",
       "  'BI',\n",
       "  'BJ',\n",
       "  'BN',\n",
       "  'BO',\n",
       "  'BR',\n",
       "  'BS',\n",
       "  'BT',\n",
       "  'BW',\n",
       "  'BY',\n",
       "  'BZ',\n",
       "  'CD',\n",
       "  'CG',\n",
       "  'CH',\n",
       "  'CI',\n",
       "  'CL',\n",
       "  'CM',\n",
       "  'CO',\n",
       "  'CR',\n",
       "  'CV',\n",
       "  'CW',\n",
       "  'CY',\n",
       "  'CZ',\n",
       "  'DE',\n",
       "  'DJ',\n",
       "  'DK',\n",
       "  'DM',\n",
       "  'DO',\n",
       "  'DZ',\n",
       "  'EC',\n",
       "  'EE',\n",
       "  'EG',\n",
       "  'ES',\n",
       "  'FI',\n",
       "  'FJ',\n",
       "  'FM',\n",
       "  'FR',\n",
       "  'GA',\n",
       "  'GB',\n",
       "  'GD',\n",
       "  'GE',\n",
       "  'GH',\n",
       "  'GM',\n",
       "  'GN',\n",
       "  'GQ',\n",
       "  'GR',\n",
       "  'GT',\n",
       "  'GW',\n",
       "  'GY',\n",
       "  'HK',\n",
       "  'HN',\n",
       "  'HR',\n",
       "  'HT',\n",
       "  'HU',\n",
       "  'ID',\n",
       "  'IE',\n",
       "  'IL',\n",
       "  'IN',\n",
       "  'IQ',\n",
       "  'IS',\n",
       "  'IT',\n",
       "  'JM',\n",
       "  'JO',\n",
       "  'JP',\n",
       "  'KE',\n",
       "  'KG',\n",
       "  'KH',\n",
       "  'KI',\n",
       "  'KM',\n",
       "  'KN',\n",
       "  'KR',\n",
       "  'KW',\n",
       "  'KZ',\n",
       "  'LA',\n",
       "  'LB',\n",
       "  'LC',\n",
       "  'LI',\n",
       "  'LK',\n",
       "  'LR',\n",
       "  'LS',\n",
       "  'LT',\n",
       "  'LU',\n",
       "  'LV',\n",
       "  'LY',\n",
       "  'MA',\n",
       "  'MC',\n",
       "  'MD',\n",
       "  'ME',\n",
       "  'MG',\n",
       "  'MH',\n",
       "  'MK',\n",
       "  'ML',\n",
       "  'MN',\n",
       "  'MO',\n",
       "  'MR',\n",
       "  'MT',\n",
       "  'MU',\n",
       "  'MV',\n",
       "  'MW',\n",
       "  'MX',\n",
       "  'MY',\n",
       "  'MZ',\n",
       "  'NA',\n",
       "  'NE',\n",
       "  'NG',\n",
       "  'NI',\n",
       "  'NL',\n",
       "  'NO',\n",
       "  'NP',\n",
       "  'NR',\n",
       "  'NZ',\n",
       "  'OM',\n",
       "  'PA',\n",
       "  'PE',\n",
       "  'PG',\n",
       "  'PH',\n",
       "  'PK',\n",
       "  'PL',\n",
       "  'PS',\n",
       "  'PT',\n",
       "  'PW',\n",
       "  'PY',\n",
       "  'QA',\n",
       "  'RO',\n",
       "  'RS',\n",
       "  'RW',\n",
       "  'SA',\n",
       "  'SB',\n",
       "  'SC',\n",
       "  'SE',\n",
       "  'SG',\n",
       "  'SI',\n",
       "  'SK',\n",
       "  'SL',\n",
       "  'SM',\n",
       "  'SN',\n",
       "  'SR',\n",
       "  'ST',\n",
       "  'SV',\n",
       "  'SZ',\n",
       "  'TD',\n",
       "  'TG',\n",
       "  'TH',\n",
       "  'TJ',\n",
       "  'TL',\n",
       "  'TN',\n",
       "  'TO',\n",
       "  'TR',\n",
       "  'TT',\n",
       "  'TV',\n",
       "  'TW',\n",
       "  'TZ',\n",
       "  'UA',\n",
       "  'UG',\n",
       "  'UY',\n",
       "  'UZ',\n",
       "  'VC',\n",
       "  'VE',\n",
       "  'VN',\n",
       "  'VU',\n",
       "  'WS',\n",
       "  'XK',\n",
       "  'ZA',\n",
       "  'ZM',\n",
       "  'ZW'],\n",
       " 'disc_number': 1,\n",
       " 'duration_ms': 183065,\n",
       " 'explicit': True,\n",
       " 'external_ids': {'isrc': 'GB2DY2000067'},\n",
       " 'external_urls': {'spotify': 'https://open.spotify.com/track/5LBikzSkad9yQ6RH87Gdrm'},\n",
       " 'href': 'https://api.spotify.com/v1/tracks/5LBikzSkad9yQ6RH87Gdrm',\n",
       " 'id': '5LBikzSkad9yQ6RH87Gdrm',\n",
       " 'is_local': False,\n",
       " 'name': 'Rain',\n",
       " 'popularity': 61,\n",
       " 'preview_url': 'https://p.scdn.co/mp3-preview/719fcd5a41fe77e90ca6359ee61ece34361854be?cid=6271323c986f4e288219efda8214b546',\n",
       " 'track_number': 1,\n",
       " 'type': 'track',\n",
       " 'uri': 'spotify:track:5LBikzSkad9yQ6RH87Gdrm'}"
      ]
     },
     "execution_count": 14,
     "metadata": {},
     "output_type": "execute_result"
    }
   ],
   "source": [
    "track_results['tracks']['items'][0]"
   ]
  },
  {
   "cell_type": "code",
   "execution_count": 15,
   "id": "947f2193",
   "metadata": {},
   "outputs": [],
   "source": [
    "tracks = track_results['tracks']['items']"
   ]
  },
  {
   "cell_type": "code",
   "execution_count": 16,
   "id": "21af5328",
   "metadata": {},
   "outputs": [
    {
     "data": {
      "text/plain": [
       "list"
      ]
     },
     "execution_count": 16,
     "metadata": {},
     "output_type": "execute_result"
    }
   ],
   "source": [
    "type(tracks)"
   ]
  },
  {
   "cell_type": "code",
   "execution_count": 17,
   "id": "000e4efe",
   "metadata": {},
   "outputs": [],
   "source": [
    "# URI = uniform resource identifier\n",
    "track_selection_list = []\n",
    "\n",
    "for song in tracks:\n",
    "    track_selection_list.append(song['uri'])"
   ]
  },
  {
   "cell_type": "code",
   "execution_count": 18,
   "id": "d068421d",
   "metadata": {},
   "outputs": [
    {
     "name": "stdout",
     "output_type": "stream",
     "text": [
      "['spotify:track:5LBikzSkad9yQ6RH87Gdrm', 'spotify:track:54X78diSLoUDI3joC2bjMz', 'spotify:track:7h2ozcUpSL7ulXjRPPQcDy', 'spotify:track:7ju97lgwC2rKQ6wwsf9no9', 'spotify:track:3rWDp9tBPQR9z6U5YyRSK4', 'spotify:track:6Nl7KyvjkFncGsjB49SxLl', 'spotify:track:24ySl2hOPGCDcxBxFIqWBu', 'spotify:track:3di5hcvxxciiqwMH1jarhY', 'spotify:track:5EONEcTCVPkhxTz1AU6n1C', 'spotify:track:2LawezPeJhN4AWuSB0GtAU', 'spotify:track:3YRCqOhFifThpSRFJ1VWFM', 'spotify:track:48TNLcToLs8DWkdj5vYdiW', 'spotify:track:1mMLMZYXkMueg65jRRWG1l', 'spotify:track:0AtMTwBF9dmAd2kjgKXpSu', 'spotify:track:1oOnOS4xNZOMpCT0lKTNo2', 'spotify:track:1M8t1j3Kv2qp97bdq5q4Vl', 'spotify:track:01apQz7E72krU1k1b4VWs7', 'spotify:track:3qbseVO8j1CBHHXZi2a4ka', 'spotify:track:5R2lEtGNrVmwCEY5cRor9n', 'spotify:track:6mSwzdkVTUmwutR2bvgqT7', 'spotify:track:2k0Uey3IUXsazhtmGCd9XJ', 'spotify:track:0Qb8vbig4Wky0RKhOWh2Ze', 'spotify:track:7xGYwhKySauoOi1OsszgV5', 'spotify:track:36VkLBq245WRvM9pVjpQNY', 'spotify:track:0IWNj3KbZQeh3iQOXSMzYQ', 'spotify:track:6j4zMbkadk8COLU0zu9vYV', 'spotify:track:4s3o6ZinzbLx9UlZP7QisA', 'spotify:track:5jyrtNJBcaFkNyS4yPixkI', 'spotify:track:0ejaz9oqClG67m2KCZJmsX', 'spotify:track:1k95ZBpBH1e8ZG61pjYwih', 'spotify:track:3L1JHXiqNOJ57w3n2R3HyU', 'spotify:track:1QspVMqApEWdaTZ8tpzObw', 'spotify:track:2BHpP24QWjKCzTkR5tcSrS', 'spotify:track:2tgKCgRqFbXdmo6ETTxLsb', 'spotify:track:4nfe5Us2eOihuKjI974MS9', 'spotify:track:6SoSVRemix7GmsZZusXXhY', 'spotify:track:2TjBSzU6Z9Hm0dmDf64RpF', 'spotify:track:1l8fBuFTnbD5NXCoVMh3oy', 'spotify:track:1fHDUiO0CO1nG424FAr2uN', 'spotify:track:03RI0ebBPQEMbkp0OqgwQ6', 'spotify:track:4tZULb84s9ELGycuPWGa2k', 'spotify:track:1ULaCASWLNrzg76Jt3VDWd', 'spotify:track:4Jxqo3meY7nbbnqa7cQY7p', 'spotify:track:2wHdIbjPhNoRY23XkAb69Q', 'spotify:track:6Vs3yWgFd6VjyKttkQaBzw', 'spotify:track:5Ven10AjOuLWMFFrcYnYy3', 'spotify:track:1qkRLwhKjp7akB9rImrgkt', 'spotify:track:0aPt1ocK6xOYfjPFVdwxDG', 'spotify:track:083wVPPL91bEdwIftmuR2O', 'spotify:track:2SabxRgV7VMc1LRHgw0HIo']\n"
     ]
    }
   ],
   "source": [
    "print(track_selection_list)"
   ]
  },
  {
   "cell_type": "code",
   "execution_count": 19,
   "id": "9d03bcdf",
   "metadata": {},
   "outputs": [
    {
     "name": "stdout",
     "output_type": "stream",
     "text": [
      "{'collaborative': False, 'description': 'Songs for the weather', 'external_urls': {'spotify': 'https://open.spotify.com/playlist/6b8Rz918cPaKzYVzwVwrEp'}, 'followers': {'href': None, 'total': 0}, 'href': 'https://api.spotify.com/v1/playlists/6b8Rz918cPaKzYVzwVwrEp', 'id': '6b8Rz918cPaKzYVzwVwrEp', 'images': [], 'name': 'Rain', 'owner': {'display_name': 'Tilly Cullen', 'external_urls': {'spotify': 'https://open.spotify.com/user/1180252496'}, 'href': 'https://api.spotify.com/v1/users/1180252496', 'id': '1180252496', 'type': 'user', 'uri': 'spotify:user:1180252496'}, 'primary_color': None, 'public': True, 'snapshot_id': 'MSwzNGQ5MzBkODg1ZDk3ZjQ4MWUzODcyZmQ0NWJkNjVmYTU1ZGQ0ZTMx', 'tracks': {'href': 'https://api.spotify.com/v1/playlists/6b8Rz918cPaKzYVzwVwrEp/tracks', 'items': [], 'limit': 100, 'next': None, 'offset': 0, 'previous': None, 'total': 0}, 'type': 'playlist', 'uri': 'spotify:playlist:6b8Rz918cPaKzYVzwVwrEp'}\n"
     ]
    }
   ],
   "source": [
    "my_playlist = sp.user_playlist_create(user=username, name=forecast, public=True,\n",
    "                                      description=\"Songs for the weather\")\n",
    "print(my_playlist)"
   ]
  },
  {
   "cell_type": "code",
   "execution_count": 21,
   "id": "1d357d5f",
   "metadata": {},
   "outputs": [
    {
     "name": "stdout",
     "output_type": "stream",
     "text": [
      "{'snapshot_id': 'MywyMWZmZTgyZjI1OGI0NzUwNTE3ZTU1ZTcyOTg1ODNhZDUzNmFkMDdm'}\n"
     ]
    }
   ],
   "source": [
    "results = sp.user_playlist_add_tracks(username, my_playlist['id'], track_selection_list)\n",
    "print(results)"
   ]
  },
  {
   "cell_type": "code",
   "execution_count": 22,
   "id": "a9d0033c",
   "metadata": {},
   "outputs": [
    {
     "name": "stdout",
     "output_type": "stream",
     "text": [
      "{'collaborative': False, 'description': 'Songs for the weather', 'external_urls': {'spotify': 'https://open.spotify.com/playlist/6b8Rz918cPaKzYVzwVwrEp'}, 'followers': {'href': None, 'total': 0}, 'href': 'https://api.spotify.com/v1/playlists/6b8Rz918cPaKzYVzwVwrEp', 'id': '6b8Rz918cPaKzYVzwVwrEp', 'images': [], 'name': 'Rain', 'owner': {'display_name': 'Tilly Cullen', 'external_urls': {'spotify': 'https://open.spotify.com/user/1180252496'}, 'href': 'https://api.spotify.com/v1/users/1180252496', 'id': '1180252496', 'type': 'user', 'uri': 'spotify:user:1180252496'}, 'primary_color': None, 'public': True, 'snapshot_id': 'MSwzNGQ5MzBkODg1ZDk3ZjQ4MWUzODcyZmQ0NWJkNjVmYTU1ZGQ0ZTMx', 'tracks': {'href': 'https://api.spotify.com/v1/playlists/6b8Rz918cPaKzYVzwVwrEp/tracks', 'items': [], 'limit': 100, 'next': None, 'offset': 0, 'previous': None, 'total': 0}, 'type': 'playlist', 'uri': 'spotify:playlist:6b8Rz918cPaKzYVzwVwrEp'}\n"
     ]
    }
   ],
   "source": [
    "print(my_playlist)\n"
   ]
  },
  {
   "cell_type": "code",
   "execution_count": 23,
   "id": "f6a6a32c",
   "metadata": {},
   "outputs": [
    {
     "data": {
      "text/plain": [
       "True"
      ]
     },
     "execution_count": 23,
     "metadata": {},
     "output_type": "execute_result"
    }
   ],
   "source": [
    "# sp.start_playback(deviceID, None, track_selection_list)\n",
    "webbrowser.open(my_playlist['external_urls']['spotify'])"
   ]
  },
  {
   "cell_type": "code",
   "execution_count": null,
   "id": "a410a674",
   "metadata": {},
   "outputs": [],
   "source": []
  }
 ],
 "metadata": {
  "kernelspec": {
   "display_name": "Python 3 (ipykernel)",
   "language": "python",
   "name": "python3"
  },
  "language_info": {
   "codemirror_mode": {
    "name": "ipython",
    "version": 3
   },
   "file_extension": ".py",
   "mimetype": "text/x-python",
   "name": "python",
   "nbconvert_exporter": "python",
   "pygments_lexer": "ipython3",
   "version": "3.11.0"
  }
 },
 "nbformat": 4,
 "nbformat_minor": 5
}
